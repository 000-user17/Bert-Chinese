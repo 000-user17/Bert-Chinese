{
 "cells": [
  {
   "cell_type": "code",
   "execution_count": 20,
   "metadata": {},
   "outputs": [
    {
     "data": {
      "text/plain": [
       "'cuda'"
      ]
     },
     "execution_count": 20,
     "metadata": {},
     "output_type": "execute_result"
    }
   ],
   "source": [
    "import torch\n",
    "import torch.nn as nn\n",
    "import torch.nn.functional as F\n",
    "import torch.optim as optim\n",
    "import matplotlib.pyplot as plt   #jupyter要matplotlib.pyplot\n",
    "from pytorch_transformers import BertConfig, BertTokenizer, BertModel, BertForMaskedLM\n",
    "device = 'cuda' if torch.cuda.is_available() else 'cpu' \n",
    "device"
   ]
  },
  {
   "cell_type": "code",
   "execution_count": 21,
   "metadata": {},
   "outputs": [],
   "source": [
    "tokenizer = BertTokenizer.from_pretrained('./bert-pretrained-chinese') #必须要./表示当前文件夹的某个文件"
   ]
  },
  {
   "cell_type": "code",
   "execution_count": 22,
   "metadata": {},
   "outputs": [
    {
     "name": "stdout",
     "output_type": "stream",
     "text": [
      "[101, 1296, 3636, 3351, 2802, 5439, 5988, 102, 872, 1762, 1525, 102]\n"
     ]
    }
   ],
   "source": [
    "text = '[CLS]单武松打老虎[SEP] 你在哪[SEP]'\n",
    "tokens = tokenizer.tokenize(text)\n",
    "indexed_tokens = tokenizer.convert_tokens_to_ids(tokens)\n",
    "segments_ids = [0,0,0,0,0,0,0,0,1,1,1,1]\n",
    "tokens_tensor = torch.tensor([indexed_tokens])\n",
    "segments_tensors = torch.tensor([segments_ids])\n",
    "print(indexed_tokens)"
   ]
  },
  {
   "cell_type": "code",
   "execution_count": 23,
   "metadata": {},
   "outputs": [
    {
     "data": {
      "text/plain": [
       "torch.Size([1, 12])"
      ]
     },
     "execution_count": 23,
     "metadata": {},
     "output_type": "execute_result"
    }
   ],
   "source": [
    "tokens_tensor.shape"
   ]
  },
  {
   "cell_type": "code",
   "execution_count": 24,
   "metadata": {},
   "outputs": [
    {
     "data": {
      "text/plain": [
       "BertModel(\n",
       "  (embeddings): BertEmbeddings(\n",
       "    (word_embeddings): Embedding(21128, 768, padding_idx=0)\n",
       "    (position_embeddings): Embedding(512, 768)\n",
       "    (token_type_embeddings): Embedding(2, 768)\n",
       "    (LayerNorm): LayerNorm((768,), eps=1e-12, elementwise_affine=True)\n",
       "    (dropout): Dropout(p=0.1, inplace=False)\n",
       "  )\n",
       "  (encoder): BertEncoder(\n",
       "    (layer): ModuleList(\n",
       "      (0): BertLayer(\n",
       "        (attention): BertAttention(\n",
       "          (self): BertSelfAttention(\n",
       "            (query): Linear(in_features=768, out_features=768, bias=True)\n",
       "            (key): Linear(in_features=768, out_features=768, bias=True)\n",
       "            (value): Linear(in_features=768, out_features=768, bias=True)\n",
       "            (dropout): Dropout(p=0.1, inplace=False)\n",
       "          )\n",
       "          (output): BertSelfOutput(\n",
       "            (dense): Linear(in_features=768, out_features=768, bias=True)\n",
       "            (LayerNorm): LayerNorm((768,), eps=1e-12, elementwise_affine=True)\n",
       "            (dropout): Dropout(p=0.1, inplace=False)\n",
       "          )\n",
       "        )\n",
       "        (intermediate): BertIntermediate(\n",
       "          (dense): Linear(in_features=768, out_features=3072, bias=True)\n",
       "        )\n",
       "        (output): BertOutput(\n",
       "          (dense): Linear(in_features=3072, out_features=768, bias=True)\n",
       "          (LayerNorm): LayerNorm((768,), eps=1e-12, elementwise_affine=True)\n",
       "          (dropout): Dropout(p=0.1, inplace=False)\n",
       "        )\n",
       "      )\n",
       "      (1): BertLayer(\n",
       "        (attention): BertAttention(\n",
       "          (self): BertSelfAttention(\n",
       "            (query): Linear(in_features=768, out_features=768, bias=True)\n",
       "            (key): Linear(in_features=768, out_features=768, bias=True)\n",
       "            (value): Linear(in_features=768, out_features=768, bias=True)\n",
       "            (dropout): Dropout(p=0.1, inplace=False)\n",
       "          )\n",
       "          (output): BertSelfOutput(\n",
       "            (dense): Linear(in_features=768, out_features=768, bias=True)\n",
       "            (LayerNorm): LayerNorm((768,), eps=1e-12, elementwise_affine=True)\n",
       "            (dropout): Dropout(p=0.1, inplace=False)\n",
       "          )\n",
       "        )\n",
       "        (intermediate): BertIntermediate(\n",
       "          (dense): Linear(in_features=768, out_features=3072, bias=True)\n",
       "        )\n",
       "        (output): BertOutput(\n",
       "          (dense): Linear(in_features=3072, out_features=768, bias=True)\n",
       "          (LayerNorm): LayerNorm((768,), eps=1e-12, elementwise_affine=True)\n",
       "          (dropout): Dropout(p=0.1, inplace=False)\n",
       "        )\n",
       "      )\n",
       "      (2): BertLayer(\n",
       "        (attention): BertAttention(\n",
       "          (self): BertSelfAttention(\n",
       "            (query): Linear(in_features=768, out_features=768, bias=True)\n",
       "            (key): Linear(in_features=768, out_features=768, bias=True)\n",
       "            (value): Linear(in_features=768, out_features=768, bias=True)\n",
       "            (dropout): Dropout(p=0.1, inplace=False)\n",
       "          )\n",
       "          (output): BertSelfOutput(\n",
       "            (dense): Linear(in_features=768, out_features=768, bias=True)\n",
       "            (LayerNorm): LayerNorm((768,), eps=1e-12, elementwise_affine=True)\n",
       "            (dropout): Dropout(p=0.1, inplace=False)\n",
       "          )\n",
       "        )\n",
       "        (intermediate): BertIntermediate(\n",
       "          (dense): Linear(in_features=768, out_features=3072, bias=True)\n",
       "        )\n",
       "        (output): BertOutput(\n",
       "          (dense): Linear(in_features=3072, out_features=768, bias=True)\n",
       "          (LayerNorm): LayerNorm((768,), eps=1e-12, elementwise_affine=True)\n",
       "          (dropout): Dropout(p=0.1, inplace=False)\n",
       "        )\n",
       "      )\n",
       "      (3): BertLayer(\n",
       "        (attention): BertAttention(\n",
       "          (self): BertSelfAttention(\n",
       "            (query): Linear(in_features=768, out_features=768, bias=True)\n",
       "            (key): Linear(in_features=768, out_features=768, bias=True)\n",
       "            (value): Linear(in_features=768, out_features=768, bias=True)\n",
       "            (dropout): Dropout(p=0.1, inplace=False)\n",
       "          )\n",
       "          (output): BertSelfOutput(\n",
       "            (dense): Linear(in_features=768, out_features=768, bias=True)\n",
       "            (LayerNorm): LayerNorm((768,), eps=1e-12, elementwise_affine=True)\n",
       "            (dropout): Dropout(p=0.1, inplace=False)\n",
       "          )\n",
       "        )\n",
       "        (intermediate): BertIntermediate(\n",
       "          (dense): Linear(in_features=768, out_features=3072, bias=True)\n",
       "        )\n",
       "        (output): BertOutput(\n",
       "          (dense): Linear(in_features=3072, out_features=768, bias=True)\n",
       "          (LayerNorm): LayerNorm((768,), eps=1e-12, elementwise_affine=True)\n",
       "          (dropout): Dropout(p=0.1, inplace=False)\n",
       "        )\n",
       "      )\n",
       "      (4): BertLayer(\n",
       "        (attention): BertAttention(\n",
       "          (self): BertSelfAttention(\n",
       "            (query): Linear(in_features=768, out_features=768, bias=True)\n",
       "            (key): Linear(in_features=768, out_features=768, bias=True)\n",
       "            (value): Linear(in_features=768, out_features=768, bias=True)\n",
       "            (dropout): Dropout(p=0.1, inplace=False)\n",
       "          )\n",
       "          (output): BertSelfOutput(\n",
       "            (dense): Linear(in_features=768, out_features=768, bias=True)\n",
       "            (LayerNorm): LayerNorm((768,), eps=1e-12, elementwise_affine=True)\n",
       "            (dropout): Dropout(p=0.1, inplace=False)\n",
       "          )\n",
       "        )\n",
       "        (intermediate): BertIntermediate(\n",
       "          (dense): Linear(in_features=768, out_features=3072, bias=True)\n",
       "        )\n",
       "        (output): BertOutput(\n",
       "          (dense): Linear(in_features=3072, out_features=768, bias=True)\n",
       "          (LayerNorm): LayerNorm((768,), eps=1e-12, elementwise_affine=True)\n",
       "          (dropout): Dropout(p=0.1, inplace=False)\n",
       "        )\n",
       "      )\n",
       "      (5): BertLayer(\n",
       "        (attention): BertAttention(\n",
       "          (self): BertSelfAttention(\n",
       "            (query): Linear(in_features=768, out_features=768, bias=True)\n",
       "            (key): Linear(in_features=768, out_features=768, bias=True)\n",
       "            (value): Linear(in_features=768, out_features=768, bias=True)\n",
       "            (dropout): Dropout(p=0.1, inplace=False)\n",
       "          )\n",
       "          (output): BertSelfOutput(\n",
       "            (dense): Linear(in_features=768, out_features=768, bias=True)\n",
       "            (LayerNorm): LayerNorm((768,), eps=1e-12, elementwise_affine=True)\n",
       "            (dropout): Dropout(p=0.1, inplace=False)\n",
       "          )\n",
       "        )\n",
       "        (intermediate): BertIntermediate(\n",
       "          (dense): Linear(in_features=768, out_features=3072, bias=True)\n",
       "        )\n",
       "        (output): BertOutput(\n",
       "          (dense): Linear(in_features=3072, out_features=768, bias=True)\n",
       "          (LayerNorm): LayerNorm((768,), eps=1e-12, elementwise_affine=True)\n",
       "          (dropout): Dropout(p=0.1, inplace=False)\n",
       "        )\n",
       "      )\n",
       "      (6): BertLayer(\n",
       "        (attention): BertAttention(\n",
       "          (self): BertSelfAttention(\n",
       "            (query): Linear(in_features=768, out_features=768, bias=True)\n",
       "            (key): Linear(in_features=768, out_features=768, bias=True)\n",
       "            (value): Linear(in_features=768, out_features=768, bias=True)\n",
       "            (dropout): Dropout(p=0.1, inplace=False)\n",
       "          )\n",
       "          (output): BertSelfOutput(\n",
       "            (dense): Linear(in_features=768, out_features=768, bias=True)\n",
       "            (LayerNorm): LayerNorm((768,), eps=1e-12, elementwise_affine=True)\n",
       "            (dropout): Dropout(p=0.1, inplace=False)\n",
       "          )\n",
       "        )\n",
       "        (intermediate): BertIntermediate(\n",
       "          (dense): Linear(in_features=768, out_features=3072, bias=True)\n",
       "        )\n",
       "        (output): BertOutput(\n",
       "          (dense): Linear(in_features=3072, out_features=768, bias=True)\n",
       "          (LayerNorm): LayerNorm((768,), eps=1e-12, elementwise_affine=True)\n",
       "          (dropout): Dropout(p=0.1, inplace=False)\n",
       "        )\n",
       "      )\n",
       "      (7): BertLayer(\n",
       "        (attention): BertAttention(\n",
       "          (self): BertSelfAttention(\n",
       "            (query): Linear(in_features=768, out_features=768, bias=True)\n",
       "            (key): Linear(in_features=768, out_features=768, bias=True)\n",
       "            (value): Linear(in_features=768, out_features=768, bias=True)\n",
       "            (dropout): Dropout(p=0.1, inplace=False)\n",
       "          )\n",
       "          (output): BertSelfOutput(\n",
       "            (dense): Linear(in_features=768, out_features=768, bias=True)\n",
       "            (LayerNorm): LayerNorm((768,), eps=1e-12, elementwise_affine=True)\n",
       "            (dropout): Dropout(p=0.1, inplace=False)\n",
       "          )\n",
       "        )\n",
       "        (intermediate): BertIntermediate(\n",
       "          (dense): Linear(in_features=768, out_features=3072, bias=True)\n",
       "        )\n",
       "        (output): BertOutput(\n",
       "          (dense): Linear(in_features=3072, out_features=768, bias=True)\n",
       "          (LayerNorm): LayerNorm((768,), eps=1e-12, elementwise_affine=True)\n",
       "          (dropout): Dropout(p=0.1, inplace=False)\n",
       "        )\n",
       "      )\n",
       "      (8): BertLayer(\n",
       "        (attention): BertAttention(\n",
       "          (self): BertSelfAttention(\n",
       "            (query): Linear(in_features=768, out_features=768, bias=True)\n",
       "            (key): Linear(in_features=768, out_features=768, bias=True)\n",
       "            (value): Linear(in_features=768, out_features=768, bias=True)\n",
       "            (dropout): Dropout(p=0.1, inplace=False)\n",
       "          )\n",
       "          (output): BertSelfOutput(\n",
       "            (dense): Linear(in_features=768, out_features=768, bias=True)\n",
       "            (LayerNorm): LayerNorm((768,), eps=1e-12, elementwise_affine=True)\n",
       "            (dropout): Dropout(p=0.1, inplace=False)\n",
       "          )\n",
       "        )\n",
       "        (intermediate): BertIntermediate(\n",
       "          (dense): Linear(in_features=768, out_features=3072, bias=True)\n",
       "        )\n",
       "        (output): BertOutput(\n",
       "          (dense): Linear(in_features=3072, out_features=768, bias=True)\n",
       "          (LayerNorm): LayerNorm((768,), eps=1e-12, elementwise_affine=True)\n",
       "          (dropout): Dropout(p=0.1, inplace=False)\n",
       "        )\n",
       "      )\n",
       "      (9): BertLayer(\n",
       "        (attention): BertAttention(\n",
       "          (self): BertSelfAttention(\n",
       "            (query): Linear(in_features=768, out_features=768, bias=True)\n",
       "            (key): Linear(in_features=768, out_features=768, bias=True)\n",
       "            (value): Linear(in_features=768, out_features=768, bias=True)\n",
       "            (dropout): Dropout(p=0.1, inplace=False)\n",
       "          )\n",
       "          (output): BertSelfOutput(\n",
       "            (dense): Linear(in_features=768, out_features=768, bias=True)\n",
       "            (LayerNorm): LayerNorm((768,), eps=1e-12, elementwise_affine=True)\n",
       "            (dropout): Dropout(p=0.1, inplace=False)\n",
       "          )\n",
       "        )\n",
       "        (intermediate): BertIntermediate(\n",
       "          (dense): Linear(in_features=768, out_features=3072, bias=True)\n",
       "        )\n",
       "        (output): BertOutput(\n",
       "          (dense): Linear(in_features=3072, out_features=768, bias=True)\n",
       "          (LayerNorm): LayerNorm((768,), eps=1e-12, elementwise_affine=True)\n",
       "          (dropout): Dropout(p=0.1, inplace=False)\n",
       "        )\n",
       "      )\n",
       "      (10): BertLayer(\n",
       "        (attention): BertAttention(\n",
       "          (self): BertSelfAttention(\n",
       "            (query): Linear(in_features=768, out_features=768, bias=True)\n",
       "            (key): Linear(in_features=768, out_features=768, bias=True)\n",
       "            (value): Linear(in_features=768, out_features=768, bias=True)\n",
       "            (dropout): Dropout(p=0.1, inplace=False)\n",
       "          )\n",
       "          (output): BertSelfOutput(\n",
       "            (dense): Linear(in_features=768, out_features=768, bias=True)\n",
       "            (LayerNorm): LayerNorm((768,), eps=1e-12, elementwise_affine=True)\n",
       "            (dropout): Dropout(p=0.1, inplace=False)\n",
       "          )\n",
       "        )\n",
       "        (intermediate): BertIntermediate(\n",
       "          (dense): Linear(in_features=768, out_features=3072, bias=True)\n",
       "        )\n",
       "        (output): BertOutput(\n",
       "          (dense): Linear(in_features=3072, out_features=768, bias=True)\n",
       "          (LayerNorm): LayerNorm((768,), eps=1e-12, elementwise_affine=True)\n",
       "          (dropout): Dropout(p=0.1, inplace=False)\n",
       "        )\n",
       "      )\n",
       "      (11): BertLayer(\n",
       "        (attention): BertAttention(\n",
       "          (self): BertSelfAttention(\n",
       "            (query): Linear(in_features=768, out_features=768, bias=True)\n",
       "            (key): Linear(in_features=768, out_features=768, bias=True)\n",
       "            (value): Linear(in_features=768, out_features=768, bias=True)\n",
       "            (dropout): Dropout(p=0.1, inplace=False)\n",
       "          )\n",
       "          (output): BertSelfOutput(\n",
       "            (dense): Linear(in_features=768, out_features=768, bias=True)\n",
       "            (LayerNorm): LayerNorm((768,), eps=1e-12, elementwise_affine=True)\n",
       "            (dropout): Dropout(p=0.1, inplace=False)\n",
       "          )\n",
       "        )\n",
       "        (intermediate): BertIntermediate(\n",
       "          (dense): Linear(in_features=768, out_features=3072, bias=True)\n",
       "        )\n",
       "        (output): BertOutput(\n",
       "          (dense): Linear(in_features=3072, out_features=768, bias=True)\n",
       "          (LayerNorm): LayerNorm((768,), eps=1e-12, elementwise_affine=True)\n",
       "          (dropout): Dropout(p=0.1, inplace=False)\n",
       "        )\n",
       "      )\n",
       "    )\n",
       "  )\n",
       "  (pooler): BertPooler(\n",
       "    (dense): Linear(in_features=768, out_features=768, bias=True)\n",
       "    (activation): Tanh()\n",
       "  )\n",
       ")"
      ]
     },
     "execution_count": 24,
     "metadata": {},
     "output_type": "execute_result"
    }
   ],
   "source": [
    "model = BertModel.from_pretrained('./bert-pretrained-chinese')\n",
    "model #创建bert模型并加再预训练参数"
   ]
  },
  {
   "cell_type": "code",
   "execution_count": 25,
   "metadata": {},
   "outputs": [],
   "source": [
    "model.to(device)\n",
    "tokens_tensor = tokens_tensor.to(device)\n",
    "segments_tensors = segments_tensors.to(device) #放入gpu中"
   ]
  },
  {
   "cell_type": "code",
   "execution_count": 26,
   "metadata": {},
   "outputs": [
    {
     "data": {
      "text/plain": [
       "torch.Size([1, 12, 768])"
      ]
     },
     "execution_count": 26,
     "metadata": {},
     "output_type": "execute_result"
    }
   ],
   "source": [
    "model.eval() #eval()将我们的模型置于评估模式，而不是训练模式。在这种情况下，评估模式关闭了训练中使用的dropout正则化。\n",
    "with torch.no_grad():\n",
    "    encoded_layers, pooled_output = model(tokens_tensor, segments_tensors)\n",
    "encoded_layers.shape"
   ]
  },
  {
   "cell_type": "markdown",
   "metadata": {},
   "source": [
    "bert模型输入，tokens_tensor：经过字典序后的one-hot编码，segments_tensors:句子编码，输出encoded_layers：encoded_layer：长度为num_hidden_layers的(batch_size， sequence_length，hidden_size)的Tensor.列表\n",
    "即输入的句子的每个字被转化为768维度的embedding\n",
    "\n",
    "encoded_layer：长度为num_hidden_layers的(batch_size， sequence_length，hidden_size)的Tensor.列表\n",
    "pooled_output: (batch_size, hidden_size), 最后一层encoder的第一个词[CLS]经过Linear层和激活函数Tanh()后的Tensor. 其代表了句子信息"
   ]
  },
  {
   "cell_type": "code",
   "execution_count": 27,
   "metadata": {},
   "outputs": [
    {
     "name": "stdout",
     "output_type": "stream",
     "text": [
      "(6022, 3)\n",
      "(1506, 2)\n"
     ]
    }
   ],
   "source": [
    "import numpy as np\n",
    "import pandas as pd\n",
    "from pandas import DataFrame\n",
    "train = pd.read_csv('./dataload/train.csv')\n",
    "test = pd.read_csv('./dataload/test.csv')\n",
    "print(train.shape)\n",
    "print(test.shape)\n"
   ]
  },
  {
   "cell_type": "code",
   "execution_count": 28,
   "metadata": {},
   "outputs": [
    {
     "name": "stdout",
     "output_type": "stream",
     "text": [
      "[1296, 3403, 2769, 3300, 749, 8024, 3297, 6818, 8958, 1352, 3403, 6819, 4385, 3833, 1220, 1962]\n",
      "['单', '标', '我', '有', '了', '，', '最', '近', 'visa', '双', '标', '返', '现', '活', '动', '好']\n"
     ]
    }
   ],
   "source": [
    "text1 = train['text'][1]\n",
    "tokens1 = tokenizer.tokenize(text1)\n",
    "indexed_tokens1 = tokenizer.convert_tokens_to_ids(tokens1)\n",
    "segments_ids1 = [0,0,0,0,0,0,0,0,1,1,1,1]\n",
    "tokens_tensor1 = torch.tensor([indexed_tokens1])\n",
    "segments_tensors1 = torch.tensor([segments_ids1])\n",
    "print(indexed_tokens1)\n",
    "print(tokens1)"
   ]
  },
  {
   "cell_type": "code",
   "execution_count": 10,
   "metadata": {},
   "outputs": [],
   "source": [
    "'''利用bert进行对train.csv的每句话分词，并且得到embedding'''\n",
    "#获取文本经过bert处理的embedding vector\n",
    "encoded_layers = []\n",
    "tokens = []\n",
    "for l in range(train.shape[0]):  #train.shape[0]表示有多少行数据\n",
    "    token = tokenizer.tokenize(train['text'][l]) #词性标注任务我没有添加[CLS]和[SEP]\n",
    "    tokens.append(token)\n",
    "\n",
    "    indexed_token = tokenizer.convert_tokens_to_ids(token)\n",
    "    indexed_token_tensor = torch.tensor([indexed_token]).to(device)\n",
    "\n",
    "    segments_id = [1] * len(token)\n",
    "    segments_id_tensor = torch.tensor([segments_id]).to(device)\n",
    "\n",
    "    model.eval() #eval()将我们的模型置于评估模式，而不是训练模式。在这种情况下，评估模式关闭了训练中使用的dropout正则化。\n",
    "    with torch.no_grad():\n",
    "        word_embedding, pooled_output = model(indexed_token_tensor, segments_id_tensor)\n",
    "\n",
    "    encoded_layers.append(word_embedding)\n",
    "\n"
   ]
  },
  {
   "cell_type": "markdown",
   "metadata": {},
   "source": [
    "由于bert的tokenizer分词出来会把'visa'单独当成一个token，因此如果要把'visa'分成'v','i','s','a'就要先用one for one将每个字母和字分开，再带入bert中获得embedding"
   ]
  },
  {
   "cell_type": "code",
   "execution_count": 34,
   "metadata": {},
   "outputs": [],
   "source": [
    "'''利用one for one 对train.csv的每句话进行分词，再带入bert得到embedding'''\n",
    "encoded_layers = []\n",
    "tokens = []\n",
    "for l in range(train.shape[0]):  #train.shape[0]表示有多少行数据\n",
    "    token = [one for one in train['text'][l]]\n",
    "    tokens.append(token)\n",
    "\n",
    "    indexed_token = tokenizer.convert_tokens_to_ids(token)\n",
    "    indexed_token_tensor = torch.tensor([indexed_token]).to(device)\n",
    "\n",
    "    segments_id = [1] * len(token)\n",
    "    segments_id_tensor = torch.tensor([segments_id]).to(device)\n",
    "\n",
    "    model.eval() #eval()将我们的模型置于评估模式，而不是训练模式。在这种情况下，评估模式关闭了训练中使用的dropout正则化。\n",
    "    with torch.no_grad():\n",
    "        word_embedding, pooled_output = model(indexed_token_tensor, segments_id_tensor)\n",
    "\n",
    "    encoded_layers.append(word_embedding)"
   ]
  },
  {
   "cell_type": "code",
   "execution_count": 39,
   "metadata": {},
   "outputs": [
    {
     "data": {
      "text/plain": [
       "torch.Size([1, 84, 768])"
      ]
     },
     "execution_count": 39,
     "metadata": {},
     "output_type": "execute_result"
    }
   ],
   "source": [
    "encoded_layers[0].shape\n"
   ]
  },
  {
   "cell_type": "code",
   "execution_count": 41,
   "metadata": {},
   "outputs": [],
   "source": [
    "'''获取bert的embedding dim'''\n",
    "#batch_size, sequence_len, embedding_size\n",
    "embedding_dim = encoded_layers[0].shape[2]\n",
    "#bert的embedding dim"
   ]
  },
  {
   "cell_type": "code",
   "execution_count": 51,
   "metadata": {},
   "outputs": [
    {
     "name": "stdout",
     "output_type": "stream",
     "text": [
      "torch.Size([84])\n"
     ]
    }
   ],
   "source": [
    "'''得到所有的命名实体的字典，然后根据字典得到train.csv每句话的命名实体字典值'''\n",
    "def tag_to_tensor(tags, tag_to_ix):\n",
    "    tag_idx = [tag_to_ix[w] for w in tags]\n",
    "    return torch.tensor(tag_idx)\n",
    "\n",
    "tag_to_ix = {\"B-BANK\": 0, \"I-BANK\": 1, \"B-PRODUCT\": 2, \"I-PRODUCT\": 3, \"O\": 4, \"B-COMMENTS_N\": 5, \"I-COMMENTS_N\": 6, \"B-COMMENTS_ADJ\": 7, \"I-COMMENTS_ADJ\": 8}  # Assign each tag with a unique index\n",
    "\n",
    "tags = [] #tags是一个list，里面存放每个训练数据的文本对应的命名实体转化为字典tensor后的形式\n",
    "for l in range(train.shape[0]):\n",
    "    tag = train['BIO_anno'][l].split()  #将每一个BIO命名实体分离\n",
    "    tag_tensors = tag_to_tensor(tag, tag_to_ix)\n",
    "    tags.append(tag_tensors.to(device))\n",
    "\n",
    "print(tags[0].shape)"
   ]
  },
  {
   "cell_type": "markdown",
   "metadata": {},
   "source": [
    "如果list中的元素为tensor，就无法用上述语句转换，会报错\n",
    "ValueError: only one element tensors can be converted to Python scalars\n",
    "遇到这种情况，一定要使用numpy形式存储于list中，然后再进行转换。"
   ]
  },
  {
   "cell_type": "code",
   "execution_count": 43,
   "metadata": {},
   "outputs": [],
   "source": [
    "#pytorch LSTM模型架构\n",
    "class LSTMTagger(nn.Module):\n",
    "\n",
    "    def __init__(self, embedding_dim, hidden_dim, vocab_size, tagset_size):\n",
    "        #LSTM的输入为连两个输入：input, (embedding_dim, hidden_dim),但是这里要用word2vec来embedding，所以要有后两个vocab_size等\n",
    "        #输出：output, (hn,cn)，cn为\n",
    "        super(LSTMTagger, self).__init__()\n",
    "        self.hidden_dim = hidden_dim\n",
    "\n",
    "        self.word_embeddings = nn.Embedding(vocab_size, embedding_dim)\n",
    "\n",
    "        # The LSTM takes word embeddings as inputs, and outputs hidden states\n",
    "        # with dimensionality hidden_dim.\n",
    "        self.lstm = nn.LSTM(embedding_dim, hidden_dim)\n",
    "\n",
    "        # The linear layer that maps from hidden state space to tag space\n",
    "        self.hidden2tag = nn.Linear(hidden_dim, tagset_size)\n",
    "\n",
    "    def forward(self, sentence):\n",
    "        #forward里的参数决定了model的输入\n",
    "        embeds = self.word_embeddings(sentence)\n",
    "        lstm_out, _ = self.lstm(embeds.view(len(sentence), 1, -1))\n",
    "        #LSTM的输出有两个，第一个是LSTM输出的embedding，第二个应该是lstm里的cell参数\n",
    "        tag_space = self.hidden2tag(lstm_out.view(len(sentence), -1))\n",
    "        #在lstm后加入了linear layer的输出，用于后面的softmax选取命名实体\n",
    "        tag_scores = F.log_softmax(tag_space, dim=1)\n",
    "        return tag_scores"
   ]
  },
  {
   "cell_type": "code",
   "execution_count": 44,
   "metadata": {},
   "outputs": [],
   "source": [
    "#本文利用bert先获得训练数据embedding，再加LSTM的模型\n",
    "'''\n",
    "embedding_dim: bert输出的每个字的embedding vector长度\n",
    "hidden_dim: LSTM的每层隐藏元个数，即经过LSTM转化后的embedding dim\n",
    "tagset_size:命名实体BIO的总个数，用于分类\n",
    "num_layers:LSTM层数\n",
    "'''\n",
    "class BertLSTM(nn.Module):\n",
    "    def __init__(self, embedding_dim, hidden_dim, tagset_size, num_layers):  #embedding_dim:bert处理后的字的ebedding size，hidden_dim：LSTM中对字的embedding size，tagset_size:BIO命名实体数量,num_layers:LSTM的层数\n",
    "\n",
    "        super(BertLSTM,self).__init__()\n",
    "\n",
    "        self.hidden_dim = hidden_dim #self\n",
    "        self.lstm = nn.LSTM(embedding_dim, hidden_dim, num_layers, batch_first=False, dropout=0.5, bias=True, bidirectional=True)\n",
    "        #LSTM设置,前两个时必须有的，后面依次时LSTM层数，bias时y=wx+b的b，bidirectional双向LSTM\n",
    "        self.hidden2tag = nn.Linear(hidden_dim, tagset_size)\n",
    "        #线性层,要用softmax选择命名实体\n",
    "\n",
    "    def forward(self, embedding_bert):  #forward表示模型在train中要输入的参数，这里只用输入文本经过bert的embedding表示\n",
    "        hidden_dim = self.hidden_dim\n",
    "\n",
    "        lstm_out, _ = self.lstm(embedding_bert.permute(1,0,2))\n",
    "       #打乱embedding_bert顺序使其符合lstm的输入形式\n",
    "        out = lstm_out[:,:, [i for i in range(hidden_dim)]]\n",
    "        #取双向lstm输入的前一半部分,不能lstm.out.shape[2]/2，会改变为float类型\n",
    "        tag_space = self.hidden2tag(out.view(embedding_bert.shape[1], -1))\n",
    "\n",
    "        tag_scores = F.log_softmax(tag_space, dim=1)\n",
    "\n",
    "        return tag_scores\n",
    "\n",
    "        "
   ]
  },
  {
   "cell_type": "code",
   "execution_count": 45,
   "metadata": {},
   "outputs": [
    {
     "name": "stdout",
     "output_type": "stream",
     "text": [
      "tensor([[[-0.5372, -0.6486,  0.8605, -0.0524]],\n",
      "\n",
      "        [[ 0.3100,  0.6123, -0.2303, -0.5068]],\n",
      "\n",
      "        [[ 0.3607,  0.1656, -0.0919, -1.0255]]], dtype=torch.float64)\n",
      "tensor([[[-0.5372, -0.6486]],\n",
      "\n",
      "        [[ 0.3100,  0.6123]],\n",
      "\n",
      "        [[ 0.3607,  0.1656]]], dtype=torch.float64)\n"
     ]
    }
   ],
   "source": [
    "a = np.random.randn(3,1,4)\n",
    "b = torch.tensor(a)\n",
    "c = b[:, :, [i for i in range(2)]]\n",
    "c.shape\n",
    "print(b)\n",
    "print(c)"
   ]
  },
  {
   "cell_type": "markdown",
   "metadata": {},
   "source": [
    "模拟双向lstm取前一半的值作为输出"
   ]
  },
  {
   "cell_type": "markdown",
   "metadata": {},
   "source": [
    "LSTM 的输入是三维，其顺序是 (seq_len, batch, input_size),因此在传进去的时候要注意是否匹配\n",
    "seq_len:句子有几个token\n",
    "input_size:x的特征维度\n",
    "x.permute变换tensor维度\n",
    "\n",
    "lstm输出数据：\n",
    "output： 维度和输入数据类似，只不过最后的feature部分会有点不同，即 (seq_len, batch, num_directions * hidden_size)\n",
    "\n",
    "如：\n",
    "x = torch.randn(2, 3, 5)\n",
    "print(x.size())\n",
    "print(x.permute(2, 0, 1).size())\n",
    "\n",
    ">>>torch.Size([2, 3, 5])\n",
    ">>>torch.Size([5, 2, 3])"
   ]
  },
  {
   "cell_type": "code",
   "execution_count": 46,
   "metadata": {},
   "outputs": [],
   "source": [
    "'''定义LSTM模型'''\n",
    "model_LSTM = BertLSTM(embedding_dim, 256, len(tag_to_ix), 3).to(device)\n",
    "loss_function = nn.NLLLoss() #和log softmax搭配使用\n",
    "optimizer = optim.SGD(model_LSTM.parameters(), lr=0.01)\n"
   ]
  },
  {
   "cell_type": "code",
   "execution_count": 47,
   "metadata": {},
   "outputs": [
    {
     "data": {
      "text/plain": [
       "torch.Size([1, 19, 768])"
      ]
     },
     "execution_count": 47,
     "metadata": {},
     "output_type": "execute_result"
    }
   ],
   "source": [
    "tags[0].shape\n",
    "encoded_layers[0].shape\n",
    "tags[1].shape\n",
    "encoded_layers[1].shape"
   ]
  },
  {
   "cell_type": "code",
   "execution_count": 101,
   "metadata": {},
   "outputs": [],
   "source": [
    "'''定义训练函数'''\n",
    "def train_LSTM(model, loss_func, optimizer, tags, encoded_layers, epochs):\n",
    "    losses = []\n",
    "    iter = []\n",
    "    for epoch in range(epochs):\n",
    "        loss_sum=0\n",
    "        for l in range(len(encoded_layers)):\n",
    "            if encoded_layers[l].shape[1] != len(tags[l]):\n",
    "                continue\n",
    "            #如果命名实体数量和token数量不同，跳过本句\n",
    "            model.zero_grad() #新batch训练时将梯度归0，防止梯度累积\n",
    "            tag_scores = model(encoded_layers[l])\n",
    "            loss = loss_func(tag_scores, tags[l])\n",
    "            loss.backward()\n",
    "            optimizer.step()\n",
    "\n",
    "            loss_sum+=loss.item()\n",
    "            \n",
    "        losses.append(loss_sum)\n",
    "        iter.append(epoch)\n",
    "        print(\"the loss of\"+ str(epoch) + \"is\" + str(loss_sum))\n",
    "    \n",
    "    plt.title(\"loss of epoch per————\"+str(loss_func)+ \",\"+ str(epochs)+ \"epochs\")\n",
    "    plt.xlabel(\"loss per 1\")\n",
    "    plt.ylabel(\"LOSS\")\n",
    "    plt.plot(iter, losses)\n",
    "    plt.show()\n",
    "\n",
    "\n",
    "    "
   ]
  },
  {
   "cell_type": "code",
   "execution_count": 97,
   "metadata": {},
   "outputs": [
    {
     "name": "stdout",
     "output_type": "stream",
     "text": [
      "84\n",
      "84\n",
      "torch.Size([84])\n"
     ]
    }
   ],
   "source": [
    "encoded_layers[0].shape[1] != tags[0].shape\n",
    "print(encoded_layers[0].shape[1])\n",
    "print(len(tags[0]))\n",
    "print(tags[0].shape)"
   ]
  },
  {
   "cell_type": "code",
   "execution_count": 65,
   "metadata": {},
   "outputs": [
    {
     "data": {
      "text/plain": [
       "torch.Size([1, 84, 768])"
      ]
     },
     "execution_count": 65,
     "metadata": {},
     "output_type": "execute_result"
    }
   ],
   "source": [
    "encoded_layers[0].shape"
   ]
  },
  {
   "cell_type": "code",
   "execution_count": 103,
   "metadata": {},
   "outputs": [
    {
     "name": "stdout",
     "output_type": "stream",
     "text": [
      "the loss of0is2884.914151276462\n",
      "the loss of1is2534.033711817581\n",
      "the loss of2is2248.3375493022613\n",
      "the loss of3is2003.7740695099346\n",
      "the loss of4is1827.4039800853934\n",
      "the loss of5is1655.067159080645\n",
      "the loss of6is1531.0094499249244\n",
      "the loss of7is1419.7208306726534\n",
      "the loss of8is1308.4929540661396\n",
      "the loss of9is1220.6540562426671\n"
     ]
    },
    {
     "data": {
      "image/png": "[encoded data removed]",
      "text/plain": [
       "<Figure size 432x288 with 1 Axes>"
      ]
     },
     "metadata": {
      "needs_background": "light"
     },
     "output_type": "display_data"
    }
   ],
   "source": [
    "train_LSTM(model_LSTM, loss_function, optimizer, tags, encoded_layers, 10)"
   ]
  },
  {
   "cell_type": "code",
   "execution_count": 143,
   "metadata": {},
   "outputs": [],
   "source": [
    "'''把所有的token的bert embedding放入LSTM模型中进行一次正向传播，此时模型和数据都还在device对应的设备上'''\n",
    "model_LSTM.eval()\n",
    "tag_scores_all = []\n",
    "with torch.no_grad():\n",
    "    for l in range(train.shape[0]):\n",
    "        temp = model_LSTM(encoded_layers[l])#前向传播一次获得每句话每个字对应的命名实体BIO的softmax分数tensor\n",
    "        tag_scores_all.append(temp)"
   ]
  },
  {
   "cell_type": "code",
   "execution_count": 146,
   "metadata": {},
   "outputs": [
    {
     "data": {
      "text/plain": [
       "tensor([-0.5630, -3.1421, -5.0234, -8.0535, -0.9799, -6.5956, -7.7917, -5.9795,\n",
       "        -7.1931], device='cuda:0')"
      ]
     },
     "execution_count": 146,
     "metadata": {},
     "output_type": "execute_result"
    }
   ],
   "source": [
    "tag_scores_all[0][0]"
   ]
  },
  {
   "cell_type": "code",
   "execution_count": 151,
   "metadata": {},
   "outputs": [],
   "source": [
    "'''把train中所有句子的BIO命名实体放入BIO_all中'''\n",
    "BIO_all=[]\n",
    "for i in range(len(tag_scores_all)):#对于每一句\n",
    "    max_indexs = []\n",
    "    BIO = []\n",
    "    for j in range(tag_scores_all[i].shape[0]):#对于每一句的每个token\n",
    "        tag_scores = tag_scores_all[i]\n",
    "        tag_score_list = list(tag_scores[j])\n",
    "\n",
    "        max_val = max(tag_scores[j])\n",
    "        max_index = tag_score_list.index(max_val)\n",
    "\n",
    "        max_indexs.append(max_index)  #一句话的对应的最大索引\n",
    "    for index in max_indexs:\n",
    "        BIO.append(list(tag_to_ix.keys())[index])#把tag_to_ix的键（key）转化为list，然后找到index对应位置的key\n",
    "    \n",
    "    BIO_all.append(BIO)\n",
    "\n"
   ]
  }
 ],
 "metadata": {
  "interpreter": {
   "hash": "51aeaaa6daebc08988689763a3ac20414fe81410c82edd7fb19e44dddcd7fa9b"
  },
  "kernelspec": {
   "display_name": "Python 3.7.0 ('py3.7torch1.4')",
   "language": "python",
   "name": "python3"
  },
  "language_info": {
   "codemirror_mode": {
    "name": "ipython",
    "version": 3
   },
   "file_extension": ".py",
   "mimetype": "text/x-python",
   "name": "python",
   "nbconvert_exporter": "python",
   "pygments_lexer": "ipython3",
   "version": "3.7.0"
  },
  "orig_nbformat": 4
 },
 "nbformat": 4,
 "nbformat_minor": 2
}
